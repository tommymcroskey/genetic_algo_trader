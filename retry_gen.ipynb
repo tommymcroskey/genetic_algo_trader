{
 "cells": [
  {
   "cell_type": "code",
   "execution_count": 12,
   "id": "720e60f0-f9eb-4341-a837-32a48264aa86",
   "metadata": {},
   "outputs": [],
   "source": [
    "import numpy as np\n",
    "import tensorflow as tf\n",
    "import pandas as pd\n",
    "import yfinance as yf\n",
    "import sys\n",
    "from tqdm import tqdm"
   ]
  },
  {
   "cell_type": "code",
   "execution_count": 2,
   "id": "e2b0a604-6f0c-480b-8d5f-549335ee494c",
   "metadata": {},
   "outputs": [
    {
     "name": "stdout",
     "output_type": "stream",
     "text": [
      "Output shape: (1, 1)\n",
      "Output: [[1]]\n"
     ]
    },
    {
     "name": "stderr",
     "output_type": "stream",
     "text": [
      "/Library/Frameworks/Python.framework/Versions/3.12/lib/python3.12/site-packages/keras/src/layers/core/input_layer.py:25: UserWarning: Argument `input_shape` is deprecated. Use `shape` instead.\n",
      "  warnings.warn(\n"
     ]
    }
   ],
   "source": [
    "class Brain:\n",
    "    def __init__(self, input_dim=(15,6)):\n",
    "        self.model = tf.keras.Sequential ([\n",
    "            tf.keras.layers.InputLayer(input_shape=input_dim),\n",
    "            tf.keras.layers.Flatten(),\n",
    "            tf.keras.layers.Dense(100, activation='relu'),\n",
    "            tf.keras.layers.Dense(100, activation='relu'),\n",
    "            tf.keras.layers.Dense(1, activation='sigmoid')\n",
    "        ])\n",
    "\n",
    "    def predict(self, tensor):\n",
    "        if len(tensor.shape) == 2:\n",
    "            tensor = tf.expand_dims(tensor, axis=0)\n",
    "        predictions = self.model.predict(tensor, verbose=0)\n",
    "        return (predictions > 0.5).astype(int)\n",
    "\n",
    "    def get_weights(self):\n",
    "        return self.model.weights\n",
    "\n",
    "    def set_weights(self, tensor):\n",
    "        self.model.set_weights(tensor)\n",
    "\n",
    "test_input = np.random.random((1, 15, 6))\n",
    "\n",
    "brain = Brain()\n",
    "output = brain.predict(test_input)\n",
    "print(\"Output shape:\", output.shape)\n",
    "print(\"Output:\", output)"
   ]
  },
  {
   "cell_type": "code",
   "execution_count": 3,
   "id": "e64f3b6a-fb69-4255-b0e4-31679e9059f7",
   "metadata": {},
   "outputs": [
    {
     "name": "stderr",
     "output_type": "stream",
     "text": [
      "[*********************100%%**********************]  1 of 1 completed"
     ]
    },
    {
     "name": "stdout",
     "output_type": "stream",
     "text": [
      "tf.Tensor(\n",
      "[5.0099998e+01 5.0419998e+01 4.9165001e+01 5.0180000e+01 4.8308235e+01\n",
      " 1.3963440e+08], shape=(6,), dtype=float32)\n",
      "tf.Tensor(\n",
      "[4.9355000e+01 4.9712502e+01 4.8192501e+01 4.9294998e+01 4.7638996e+01\n",
      " 1.6483480e+08], shape=(6,), dtype=float32)\n",
      "49.35499954223633\n"
     ]
    },
    {
     "name": "stderr",
     "output_type": "stream",
     "text": [
      "\n",
      "/var/folders/fn/vxn26nqn3qj3s7f8868n0x5c0000gn/T/ipykernel_57868/3252891350.py:6: FutureWarning: Series.__getitem__ treating keys as positions is deprecated. In a future version, integer keys will always be treated as labels (consistent with DataFrame behavior). To access a value by position, use `ser.iloc[pos]`\n",
      "  self.current_price = self.data.iloc[self.current_index][0]\n",
      "/var/folders/fn/vxn26nqn3qj3s7f8868n0x5c0000gn/T/ipykernel_57868/3252891350.py:13: FutureWarning: Series.__getitem__ treating keys as positions is deprecated. In a future version, integer keys will always be treated as labels (consistent with DataFrame behavior). To access a value by position, use `ser.iloc[pos]`\n",
      "  return self.data.iloc[self.current_index][0]\n"
     ]
    }
   ],
   "source": [
    "class Data:\n",
    "    def __init__(self, start_index=0):\n",
    "        self.data = yf.download('AAPL', period='5y', interval='1d')\n",
    "        self.current_index = start_index\n",
    "        self.interval_data = tf.convert_to_tensor(self.data.iloc[self.current_index], dtype=tf.float32)\n",
    "        self.current_price = self.data.iloc[self.current_index][0]\n",
    "        self.length = self.data.shape[0]\n",
    "\n",
    "    def get_interval_data(self):\n",
    "        return self.interval_data\n",
    "\n",
    "    def get_current_price(self):\n",
    "        return self.data.iloc[self.current_index][0]\n",
    "\n",
    "    def next(self):\n",
    "        if self.current_index < self.data.shape[0]:\n",
    "            self.current_index = self.current_index + 1\n",
    "            self.interval_data = tf.convert_to_tensor(self.data.iloc[self.current_index], dtype=tf.float32)\n",
    "        else:\n",
    "            self.current_index = 0\n",
    "            self.interval_data = tf.convert_to_tensor(self.data.iloc[self.current_index], dtype=tf.float32)\n",
    "\n",
    "\n",
    "data_obj = Data()\n",
    "data_obj.data[:5]\n",
    "print(data_obj.get_interval_data())\n",
    "data_obj.next()\n",
    "print(data_obj.get_interval_data())\n",
    "print(data_obj.get_current_price())"
   ]
  },
  {
   "cell_type": "code",
   "execution_count": 4,
   "id": "d20a1e86-2297-4597-a8ab-d10fe562cd17",
   "metadata": {},
   "outputs": [
    {
     "name": "stdout",
     "output_type": "stream",
     "text": [
      "[[0. 0. 0. 0. 0. 0.]\n",
      " [0. 0. 0. 0. 0. 0.]\n",
      " [0. 0. 0. 0. 0. 0.]\n",
      " [0. 0. 0. 0. 0. 0.]\n",
      " [0. 0. 0. 0. 0. 0.]\n",
      " [0. 0. 0. 0. 0. 0.]\n",
      " [0. 0. 0. 0. 0. 0.]\n",
      " [0. 0. 0. 0. 0. 0.]\n",
      " [0. 0. 0. 0. 0. 0.]\n",
      " [0. 0. 0. 0. 0. 0.]\n",
      " [0. 0. 0. 0. 0. 0.]\n",
      " [0. 0. 0. 0. 0. 0.]\n",
      " [0. 0. 0. 0. 0. 0.]\n",
      " [0. 0. 0. 0. 0. 0.]\n",
      " [0. 0. 0. 0. 0. 0.]]\n",
      "[[1. 2. 3. 4. 5. 6.]\n",
      " [0. 0. 0. 0. 0. 0.]\n",
      " [0. 0. 0. 0. 0. 0.]\n",
      " [0. 0. 0. 0. 0. 0.]\n",
      " [0. 0. 0. 0. 0. 0.]\n",
      " [0. 0. 0. 0. 0. 0.]\n",
      " [0. 0. 0. 0. 0. 0.]\n",
      " [0. 0. 0. 0. 0. 0.]\n",
      " [0. 0. 0. 0. 0. 0.]\n",
      " [0. 0. 0. 0. 0. 0.]\n",
      " [0. 0. 0. 0. 0. 0.]\n",
      " [0. 0. 0. 0. 0. 0.]\n",
      " [0. 0. 0. 0. 0. 0.]\n",
      " [0. 0. 0. 0. 0. 0.]\n",
      " [0. 0. 0. 0. 0. 0.]]\n",
      "[[ 6.  7.  8.  9. 10. 11.]\n",
      " [ 1.  2.  3.  4.  5.  6.]\n",
      " [ 0.  0.  0.  0.  0.  0.]\n",
      " [ 0.  0.  0.  0.  0.  0.]\n",
      " [ 0.  0.  0.  0.  0.  0.]\n",
      " [ 0.  0.  0.  0.  0.  0.]\n",
      " [ 0.  0.  0.  0.  0.  0.]\n",
      " [ 0.  0.  0.  0.  0.  0.]\n",
      " [ 0.  0.  0.  0.  0.  0.]\n",
      " [ 0.  0.  0.  0.  0.  0.]\n",
      " [ 0.  0.  0.  0.  0.  0.]\n",
      " [ 0.  0.  0.  0.  0.  0.]\n",
      " [ 0.  0.  0.  0.  0.  0.]\n",
      " [ 0.  0.  0.  0.  0.  0.]\n",
      " [ 0.  0.  0.  0.  0.  0.]]\n"
     ]
    }
   ],
   "source": [
    "class SlidingWindow:\n",
    "    def __init__(self, input_dim):\n",
    "        self.sliding_window = tf.Variable(tf.zeros(input_dim, dtype=tf.float32))\n",
    "        self.interval_data_size = input_dim[1]\n",
    "        self.days = input_dim[0]\n",
    "\n",
    "    def __repr__(self):\n",
    "        return str(self.sliding_window.numpy())\n",
    "\n",
    "    def insert(self, tensor):\n",
    "        if tf.size(tf.constant(tensor)).numpy() != self.interval_data_size:\n",
    "            print(f\"Error: trying to insert tensor of size {tf.size(tensor).numpy()}. Expected size of {self.interval_data_size}.\")\n",
    "        else:\n",
    "            tensor = tf.cast(tensor, tf.float32)\n",
    "            self.sliding_window.assign(tf.concat([tf.expand_dims(tensor, 0), self.sliding_window[:-1]], axis=0))\n",
    "\n",
    "tensor_to_insert = tf.constant([1, 2, 3, 4, 5, 6], dtype=tf.float32)\n",
    "another_tensor_to_insert = tf.constant([6, 7, 8, 9, 10, 11], dtype=tf.float32)\n",
    "input_dim = (15, 6)\n",
    "interval_data_size = tf.size(tensor_to_insert).numpy()\n",
    "\n",
    "sl_win = SlidingWindow(input_dim)\n",
    "print(sl_win)\n",
    "sl_win.insert(tensor_to_insert)\n",
    "print(sl_win)\n",
    "sl_win.insert(another_tensor_to_insert)\n",
    "print(sl_win)"
   ]
  },
  {
   "cell_type": "code",
   "execution_count": 5,
   "id": "e1fbc89d-1061-444d-afa0-57106538a93e",
   "metadata": {},
   "outputs": [],
   "source": [
    "class Agent:\n",
    "    def __init__(self):\n",
    "        self.active_trades = []\n",
    "        self.fitness = 0\n",
    "        self.num_trades = 0\n",
    "        self.brain = Brain()\n",
    "        self.sl_win = SlidingWindow((15,6))\n",
    "\n",
    "    def __lt__(self, other):\n",
    "        return True if self.fitness < other.fitness else False\n",
    "\n",
    "    def update(self, tensor, current_price):\n",
    "        self.sl_win.insert(tensor)\n",
    "        self.close_trades(current_price)\n",
    "        if self.brain.predict(sl_win.sliding_window) > .5:\n",
    "            self.buy(current_price)\n",
    "\n",
    "    def buy(self, current_price):\n",
    "        self.active_trades.append([current_price, current_price * 1.05, current_price * .95])\n",
    "        self.num_trades = self.num_trades + 1\n",
    "\n",
    "    def close_trades(self, current_price):\n",
    "        trades_to_keep = []\n",
    "        for trade in self.active_trades:\n",
    "            if trade[1] <= current_price:\n",
    "                self.fitness = self.fitness + trade[1] - trade[0]\n",
    "            elif trade[2] >= current_price:\n",
    "                self.fitness = self.fitness + trade[0] - trade[2]\n",
    "            else:\n",
    "                trades_to_keep.append(trade)\n",
    "        self.active_trades = trades_to_keep\n",
    "\n",
    "    def force_close_trades(self, current_price):\n",
    "        trades_to_keep = []\n",
    "        for trade in self.active_trades:\n",
    "            self.fitness = self.fitness + current_price - trade[0]\n",
    "        self.active_trades = trades_to_keep"
   ]
  },
  {
   "cell_type": "code",
   "execution_count": null,
   "id": "9ad2e56c-fdf7-4c3c-8049-3f0dffc8cb70",
   "metadata": {},
   "outputs": [
    {
     "name": "stderr",
     "output_type": "stream",
     "text": [
      "[*********************100%%**********************]  1 of 1 completed\n",
      "/var/folders/fn/vxn26nqn3qj3s7f8868n0x5c0000gn/T/ipykernel_57868/3252891350.py:6: FutureWarning: Series.__getitem__ treating keys as positions is deprecated. In a future version, integer keys will always be treated as labels (consistent with DataFrame behavior). To access a value by position, use `ser.iloc[pos]`\n",
      "  self.current_price = self.data.iloc[self.current_index][0]\n",
      "/Library/Frameworks/Python.framework/Versions/3.12/lib/python3.12/site-packages/keras/src/layers/core/input_layer.py:25: UserWarning: Argument `input_shape` is deprecated. Use `shape` instead.\n",
      "  warnings.warn(\n",
      "/var/folders/fn/vxn26nqn3qj3s7f8868n0x5c0000gn/T/ipykernel_57868/3252891350.py:13: FutureWarning: Series.__getitem__ treating keys as positions is deprecated. In a future version, integer keys will always be treated as labels (consistent with DataFrame behavior). To access a value by position, use `ser.iloc[pos]`\n",
      "  return self.data.iloc[self.current_index][0]\n"
     ]
    },
    {
     "name": "stdout",
     "output_type": "stream",
     "text": [
      "Cycle 10/100\n",
      "Cycle 20/100\n",
      "Cycle 30/100\n"
     ]
    }
   ],
   "source": [
    "class Gen:\n",
    "    def __init__(self, generations, population_size, cycles=100, mutation_rate=0.03):\n",
    "        self.generations = generations\n",
    "        self.population_size = population_size\n",
    "        self.cycles = cycles\n",
    "        self.mutation_rate = mutation_rate\n",
    "\n",
    "    def mutate(self, child):\n",
    "        pass\n",
    "\n",
    "    def crossover(self, parent1, parent2):\n",
    "        pass\n",
    "\n",
    "    def gen(self):\n",
    "        data = Data()\n",
    "        data.data, test_set = data.data[:-200], data.data[-200:]\n",
    "        population = []\n",
    "        for _ in range(self.population_size):\n",
    "            population.append(Agent())\n",
    "        for generation in range(self.generations):\n",
    "            for i in range(self.cycles):\n",
    "                if (i + 1) % 10 == 0:\n",
    "                    print(f\"Cycle {i+1}/{self.cycles}\")\n",
    "                input_tensor = data.get_interval_data()\n",
    "                for agent in population:\n",
    "                    agent.update(input_tensor, data.get_current_price())\n",
    "                data.next()\n",
    "                sys.stdout.flush()\n",
    "                \n",
    "            ranked_population = sorted(population)\n",
    "            ranked_population.reverse()\n",
    "\n",
    "            print(f\"=== Generation {generation}===\\nBest: {ranked_population[0].fitness}. Worst{ranked_population[-1].fitness}\")\n",
    "\n",
    "            # pick parents\n",
    "            # make children\n",
    "            # mutate children\n",
    "            # assign new generation to population\n",
    "\n",
    "genetic_alg = Gen(1, 10, 100, .03)\n",
    "genetic_alg.gen()"
   ]
  }
 ],
 "metadata": {
  "kernelspec": {
   "display_name": "Python 3 (ipykernel)",
   "language": "python",
   "name": "python3"
  },
  "language_info": {
   "codemirror_mode": {
    "name": "ipython",
    "version": 3
   },
   "file_extension": ".py",
   "mimetype": "text/x-python",
   "name": "python",
   "nbconvert_exporter": "python",
   "pygments_lexer": "ipython3",
   "version": "3.12.0"
  }
 },
 "nbformat": 4,
 "nbformat_minor": 5
}
